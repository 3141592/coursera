{
 "cells": [
  {
   "cell_type": "code",
   "execution_count": 16,
   "id": "837950b8",
   "metadata": {},
   "outputs": [
    {
     "name": "stdout",
     "output_type": "stream",
     "text": [
      "(404, 13)\n",
      "Processing fold # 0\n"
     ]
    },
    {
     "name": "stderr",
     "output_type": "stream",
     "text": [
      "2021-11-15 22:22:08.688234: I tensorflow/core/profiler/lib/profiler_session.cc:131] Profiler session initializing.\n",
      "2021-11-15 22:22:08.688280: I tensorflow/core/profiler/lib/profiler_session.cc:146] Profiler session started.\n",
      "2021-11-15 22:22:08.688405: I tensorflow/core/profiler/lib/profiler_session.cc:164] Profiler session tear down.\n",
      "2021-11-15 22:22:09.163900: I tensorflow/core/profiler/lib/profiler_session.cc:131] Profiler session initializing.\n",
      "2021-11-15 22:22:09.163918: I tensorflow/core/profiler/lib/profiler_session.cc:146] Profiler session started.\n",
      "2021-11-15 22:22:09.187563: I tensorflow/core/profiler/lib/profiler_session.cc:66] Profiler session collecting data.\n",
      "2021-11-15 22:22:09.188749: I tensorflow/core/profiler/lib/profiler_session.cc:164] Profiler session tear down.\n",
      "2021-11-15 22:22:09.190087: I tensorflow/core/profiler/rpc/client/save_profile.cc:136] Creating directory: logs/fit/20211115-222208/train/plugins/profile/2021_11_15_22_22_09\n",
      "\n",
      "2021-11-15 22:22:09.190894: I tensorflow/core/profiler/rpc/client/save_profile.cc:142] Dumped gzipped tool data for trace.json.gz to logs/fit/20211115-222208/train/plugins/profile/2021_11_15_22_22_09/Roys-MacBook-Pro.local.trace.json.gz\n",
      "2021-11-15 22:22:09.193354: I tensorflow/core/profiler/rpc/client/save_profile.cc:136] Creating directory: logs/fit/20211115-222208/train/plugins/profile/2021_11_15_22_22_09\n",
      "\n",
      "2021-11-15 22:22:09.193589: I tensorflow/core/profiler/rpc/client/save_profile.cc:142] Dumped gzipped tool data for memory_profile.json.gz to logs/fit/20211115-222208/train/plugins/profile/2021_11_15_22_22_09/Roys-MacBook-Pro.local.memory_profile.json.gz\n",
      "2021-11-15 22:22:09.194730: I tensorflow/core/profiler/rpc/client/capture_profile.cc:251] Creating directory: logs/fit/20211115-222208/train/plugins/profile/2021_11_15_22_22_09\n",
      "Dumped tool data for xplane.pb to logs/fit/20211115-222208/train/plugins/profile/2021_11_15_22_22_09/Roys-MacBook-Pro.local.xplane.pb\n",
      "Dumped tool data for overview_page.pb to logs/fit/20211115-222208/train/plugins/profile/2021_11_15_22_22_09/Roys-MacBook-Pro.local.overview_page.pb\n",
      "Dumped tool data for input_pipeline.pb to logs/fit/20211115-222208/train/plugins/profile/2021_11_15_22_22_09/Roys-MacBook-Pro.local.input_pipeline.pb\n",
      "Dumped tool data for tensorflow_stats.pb to logs/fit/20211115-222208/train/plugins/profile/2021_11_15_22_22_09/Roys-MacBook-Pro.local.tensorflow_stats.pb\n",
      "Dumped tool data for kernel_stats.pb to logs/fit/20211115-222208/train/plugins/profile/2021_11_15_22_22_09/Roys-MacBook-Pro.local.kernel_stats.pb\n",
      "\n"
     ]
    },
    {
     "name": "stdout",
     "output_type": "stream",
     "text": [
      "dict_keys(['loss', 'mae'])\n",
      "Processing fold # 1\n"
     ]
    },
    {
     "name": "stderr",
     "output_type": "stream",
     "text": [
      "2021-11-15 22:22:29.212952: I tensorflow/core/profiler/lib/profiler_session.cc:131] Profiler session initializing.\n",
      "2021-11-15 22:22:29.212970: I tensorflow/core/profiler/lib/profiler_session.cc:146] Profiler session started.\n",
      "2021-11-15 22:22:29.236760: I tensorflow/core/profiler/lib/profiler_session.cc:66] Profiler session collecting data.\n",
      "2021-11-15 22:22:29.237952: I tensorflow/core/profiler/lib/profiler_session.cc:164] Profiler session tear down.\n",
      "2021-11-15 22:22:29.238932: I tensorflow/core/profiler/rpc/client/save_profile.cc:136] Creating directory: logs/fit/20211115-222208/train/plugins/profile/2021_11_15_22_22_29\n",
      "\n",
      "2021-11-15 22:22:29.239774: I tensorflow/core/profiler/rpc/client/save_profile.cc:142] Dumped gzipped tool data for trace.json.gz to logs/fit/20211115-222208/train/plugins/profile/2021_11_15_22_22_29/Roys-MacBook-Pro.local.trace.json.gz\n",
      "2021-11-15 22:22:29.242523: I tensorflow/core/profiler/rpc/client/save_profile.cc:136] Creating directory: logs/fit/20211115-222208/train/plugins/profile/2021_11_15_22_22_29\n",
      "\n",
      "2021-11-15 22:22:29.242817: I tensorflow/core/profiler/rpc/client/save_profile.cc:142] Dumped gzipped tool data for memory_profile.json.gz to logs/fit/20211115-222208/train/plugins/profile/2021_11_15_22_22_29/Roys-MacBook-Pro.local.memory_profile.json.gz\n",
      "2021-11-15 22:22:29.243907: I tensorflow/core/profiler/rpc/client/capture_profile.cc:251] Creating directory: logs/fit/20211115-222208/train/plugins/profile/2021_11_15_22_22_29\n",
      "Dumped tool data for xplane.pb to logs/fit/20211115-222208/train/plugins/profile/2021_11_15_22_22_29/Roys-MacBook-Pro.local.xplane.pb\n",
      "Dumped tool data for overview_page.pb to logs/fit/20211115-222208/train/plugins/profile/2021_11_15_22_22_29/Roys-MacBook-Pro.local.overview_page.pb\n",
      "Dumped tool data for input_pipeline.pb to logs/fit/20211115-222208/train/plugins/profile/2021_11_15_22_22_29/Roys-MacBook-Pro.local.input_pipeline.pb\n",
      "Dumped tool data for tensorflow_stats.pb to logs/fit/20211115-222208/train/plugins/profile/2021_11_15_22_22_29/Roys-MacBook-Pro.local.tensorflow_stats.pb\n",
      "Dumped tool data for kernel_stats.pb to logs/fit/20211115-222208/train/plugins/profile/2021_11_15_22_22_29/Roys-MacBook-Pro.local.kernel_stats.pb\n",
      "\n"
     ]
    },
    {
     "name": "stdout",
     "output_type": "stream",
     "text": [
      "dict_keys(['loss', 'mae'])\n",
      "Processing fold # 2\n"
     ]
    },
    {
     "name": "stderr",
     "output_type": "stream",
     "text": [
      "2021-11-15 22:22:49.228779: I tensorflow/core/profiler/lib/profiler_session.cc:131] Profiler session initializing.\n",
      "2021-11-15 22:22:49.228796: I tensorflow/core/profiler/lib/profiler_session.cc:146] Profiler session started.\n",
      "2021-11-15 22:22:49.253700: I tensorflow/core/profiler/lib/profiler_session.cc:66] Profiler session collecting data.\n",
      "2021-11-15 22:22:49.254852: I tensorflow/core/profiler/lib/profiler_session.cc:164] Profiler session tear down.\n",
      "2021-11-15 22:22:49.255856: I tensorflow/core/profiler/rpc/client/save_profile.cc:136] Creating directory: logs/fit/20211115-222208/train/plugins/profile/2021_11_15_22_22_49\n",
      "\n",
      "2021-11-15 22:22:49.256673: I tensorflow/core/profiler/rpc/client/save_profile.cc:142] Dumped gzipped tool data for trace.json.gz to logs/fit/20211115-222208/train/plugins/profile/2021_11_15_22_22_49/Roys-MacBook-Pro.local.trace.json.gz\n",
      "2021-11-15 22:22:49.259144: I tensorflow/core/profiler/rpc/client/save_profile.cc:136] Creating directory: logs/fit/20211115-222208/train/plugins/profile/2021_11_15_22_22_49\n",
      "\n",
      "2021-11-15 22:22:49.259450: I tensorflow/core/profiler/rpc/client/save_profile.cc:142] Dumped gzipped tool data for memory_profile.json.gz to logs/fit/20211115-222208/train/plugins/profile/2021_11_15_22_22_49/Roys-MacBook-Pro.local.memory_profile.json.gz\n",
      "2021-11-15 22:22:49.260566: I tensorflow/core/profiler/rpc/client/capture_profile.cc:251] Creating directory: logs/fit/20211115-222208/train/plugins/profile/2021_11_15_22_22_49\n",
      "Dumped tool data for xplane.pb to logs/fit/20211115-222208/train/plugins/profile/2021_11_15_22_22_49/Roys-MacBook-Pro.local.xplane.pb\n",
      "Dumped tool data for overview_page.pb to logs/fit/20211115-222208/train/plugins/profile/2021_11_15_22_22_49/Roys-MacBook-Pro.local.overview_page.pb\n",
      "Dumped tool data for input_pipeline.pb to logs/fit/20211115-222208/train/plugins/profile/2021_11_15_22_22_49/Roys-MacBook-Pro.local.input_pipeline.pb\n",
      "Dumped tool data for tensorflow_stats.pb to logs/fit/20211115-222208/train/plugins/profile/2021_11_15_22_22_49/Roys-MacBook-Pro.local.tensorflow_stats.pb\n",
      "Dumped tool data for kernel_stats.pb to logs/fit/20211115-222208/train/plugins/profile/2021_11_15_22_22_49/Roys-MacBook-Pro.local.kernel_stats.pb\n",
      "\n"
     ]
    },
    {
     "name": "stdout",
     "output_type": "stream",
     "text": [
      "dict_keys(['loss', 'mae'])\n",
      "Processing fold # 3\n"
     ]
    },
    {
     "name": "stderr",
     "output_type": "stream",
     "text": [
      "2021-11-15 22:23:09.974352: I tensorflow/core/profiler/lib/profiler_session.cc:131] Profiler session initializing.\n",
      "2021-11-15 22:23:09.974369: I tensorflow/core/profiler/lib/profiler_session.cc:146] Profiler session started.\n",
      "2021-11-15 22:23:09.996810: I tensorflow/core/profiler/lib/profiler_session.cc:66] Profiler session collecting data.\n",
      "2021-11-15 22:23:09.997933: I tensorflow/core/profiler/lib/profiler_session.cc:164] Profiler session tear down.\n",
      "2021-11-15 22:23:09.998905: I tensorflow/core/profiler/rpc/client/save_profile.cc:136] Creating directory: logs/fit/20211115-222208/train/plugins/profile/2021_11_15_22_23_09\n",
      "\n",
      "2021-11-15 22:23:09.999756: I tensorflow/core/profiler/rpc/client/save_profile.cc:142] Dumped gzipped tool data for trace.json.gz to logs/fit/20211115-222208/train/plugins/profile/2021_11_15_22_23_09/Roys-MacBook-Pro.local.trace.json.gz\n",
      "2021-11-15 22:23:10.002044: I tensorflow/core/profiler/rpc/client/save_profile.cc:136] Creating directory: logs/fit/20211115-222208/train/plugins/profile/2021_11_15_22_23_09\n",
      "\n",
      "2021-11-15 22:23:10.002264: I tensorflow/core/profiler/rpc/client/save_profile.cc:142] Dumped gzipped tool data for memory_profile.json.gz to logs/fit/20211115-222208/train/plugins/profile/2021_11_15_22_23_09/Roys-MacBook-Pro.local.memory_profile.json.gz\n",
      "2021-11-15 22:23:10.003416: I tensorflow/core/profiler/rpc/client/capture_profile.cc:251] Creating directory: logs/fit/20211115-222208/train/plugins/profile/2021_11_15_22_23_09\n",
      "Dumped tool data for xplane.pb to logs/fit/20211115-222208/train/plugins/profile/2021_11_15_22_23_09/Roys-MacBook-Pro.local.xplane.pb\n",
      "Dumped tool data for overview_page.pb to logs/fit/20211115-222208/train/plugins/profile/2021_11_15_22_23_09/Roys-MacBook-Pro.local.overview_page.pb\n",
      "Dumped tool data for input_pipeline.pb to logs/fit/20211115-222208/train/plugins/profile/2021_11_15_22_23_09/Roys-MacBook-Pro.local.input_pipeline.pb\n",
      "Dumped tool data for tensorflow_stats.pb to logs/fit/20211115-222208/train/plugins/profile/2021_11_15_22_23_09/Roys-MacBook-Pro.local.tensorflow_stats.pb\n",
      "Dumped tool data for kernel_stats.pb to logs/fit/20211115-222208/train/plugins/profile/2021_11_15_22_23_09/Roys-MacBook-Pro.local.kernel_stats.pb\n",
      "\n"
     ]
    },
    {
     "name": "stdout",
     "output_type": "stream",
     "text": [
      "dict_keys(['loss', 'mae'])\n"
     ]
    }
   ],
   "source": [
    "#3.6.1\n",
    "#%load_ext tensorboard\n",
    "import tensorflow as tf\n",
    "import datetime\n",
    "from keras.datasets import boston_housing\n",
    "\n",
    "# Clear any logs from previous runs\n",
    "!rm -rf ./logs/ \n",
    "\n",
    "log_dir = \"logs/fit/\" + datetime.datetime.now().strftime(\"%Y%m%d-%H%M%S\")\n",
    "tensorboard_callback = tf.keras.callbacks.TensorBoard(log_dir=log_dir, histogram_freq=1)\n",
    "\n",
    "(train_data, train_targets), (test_data, test_targets) = boston_housing.load_data()\n",
    "\n",
    "print(train_data.shape)\n",
    "#print(test_data.shape)\n",
    "#print(train_targets)\n",
    "\n",
    "#normalize data\n",
    "mean = train_data.mean(axis=0)\n",
    "train_data -= mean\n",
    "std = train_data.std(axis=0)\n",
    "train_data /= std\n",
    "#print(train_data)\n",
    "\n",
    "test_data -= mean\n",
    "test_data /= mean\n",
    "\n",
    "#network\n",
    "from keras import models\n",
    "from keras import layers\n",
    "\n",
    "def build_model():\n",
    "    model = models.Sequential()\n",
    "    model.add(layers.Dense(64, activation='relu', input_shape=(train_data.shape[1],)))\n",
    "    model.add(layers.Dense(64, activation='relu'))\n",
    "    model.add(layers.Dense(1))\n",
    "    model.compile(optimizer='rmsprop', loss='mse', metrics=['mae'])\n",
    "    return model\n",
    "              \n",
    "#Listing 3.2.7\n",
    "#k-fold validation\n",
    "import numpy as np\n",
    "\n",
    "k = 4\n",
    "num_val_samples = len(train_data) // k\n",
    "num_epochs = 100\n",
    "all_mae_histories = []\n",
    "\n",
    "for i in range(k):\n",
    "    print(\"Processing fold #\", i)\n",
    "    val_data = train_data[i * num_val_samples: (i + 1) * num_val_samples]\n",
    "    val_targets = train_targets[i * num_val_samples: (i + 1) * num_val_samples]\n",
    "    partial_train_data = np.concatenate(\n",
    "        [train_data[:i * num_val_samples],\n",
    "         train_data[(i + 1) * num_val_samples:]],\n",
    "         axis=0)\n",
    "    partial_train_targets = np.concatenate(\n",
    "        [train_targets[:i * num_val_samples],\n",
    "         train_targets[(i + 1) * num_val_samples:]],\n",
    "         axis=0)\n",
    "    \n",
    "    model = build_model()\n",
    "    history = model.fit(partial_train_data, partial_train_targets,\n",
    "              epochs=num_epochs, batch_size=1, verbose=0,\n",
    "              callbacks=[tensorboard_callback])\n",
    "    \n",
    "    print(history.history.keys())\n",
    "    mae_history = history.history['mae']\n",
    "    all_mae_histories.append(mae_history)\n",
    "\n",
    "    average_mae_history = [np.mean([x[i] for x in all_mae_histories]) for i in range(num_epochs)]"
   ]
  },
  {
   "cell_type": "code",
   "execution_count": null,
   "id": "4bfce366",
   "metadata": {},
   "outputs": [],
   "source": []
  },
  {
   "cell_type": "code",
   "execution_count": null,
   "id": "58f2aed4",
   "metadata": {},
   "outputs": [],
   "source": []
  }
 ],
 "metadata": {
  "kernelspec": {
   "display_name": "Python 3 (ipykernel)",
   "language": "python",
   "name": "python3"
  },
  "language_info": {
   "codemirror_mode": {
    "name": "ipython",
    "version": 3
   },
   "file_extension": ".py",
   "mimetype": "text/x-python",
   "name": "python",
   "nbconvert_exporter": "python",
   "pygments_lexer": "ipython3",
   "version": "3.9.7"
  }
 },
 "nbformat": 4,
 "nbformat_minor": 5
}
