{
 "cells": [
  {
   "cell_type": "code",
   "execution_count": 1,
   "id": "d6ce60fe",
   "metadata": {},
   "outputs": [
    {
     "name": "stdout",
     "output_type": "stream",
     "text": [
      "[119.5 124.5 129.5]\n",
      "[119.5 124.5 129.5]\n",
      "[119 124 129]\n",
      "(5,)\n",
      "(3, 5)\n"
     ]
    }
   ],
   "source": [
    "#2.3.1\n",
    "import numpy as np\n",
    "\n",
    "def relu(X):\n",
    "   return np.maximum(0,X)\n",
    "\n",
    "input = np.array([1, 1, 1, 1, 1])\n",
    "W = np.array([[5,78,2,34,0],\n",
    "              [6,79,3,35,1],\n",
    "              [7,80,4,36,2]])\n",
    "\n",
    "b = np.array([0.5, 0.5, 0.5,])\n",
    "\n",
    "np.dot(W, input)\n",
    "output = relu(np.dot(W, input) + b)\n",
    "print(output)\n",
    "output = np.maximum(np.dot(W, input) + b, 0)\n",
    "print(output)\n",
    "output = np.dot(W, input)\n",
    "print(output)\n",
    "print(input.shape)\n",
    "print(W.shape)"
   ]
  },
  {
   "cell_type": "code",
   "execution_count": 14,
   "id": "8dc2d865",
   "metadata": {},
   "outputs": [
    {
     "name": "stdout",
     "output_type": "stream",
     "text": [
      "(6, 3, 2, 4)\n",
      "[[[0.26922773 0.5571577  0.10552864 0.14529972]\n",
      "  [0.85519478 0.38976463 0.78168139 0.01683833]]\n",
      "\n",
      " [[0.2392117  0.58854396 0.42475202 0.35821531]\n",
      "  [0.69339302 0.17412345 0.83509467 0.06364545]]\n",
      "\n",
      " [[0.0227242  0.16425072 0.41830408 0.59086963]\n",
      "  [0.01799123 0.82047735 0.85623521 0.44616332]]]\n",
      "(2, 4)\n",
      "[0.29449922 0.72960717 0.76279559 0.71833566]\n",
      "(6, 3, 2, 4)\n",
      "[[[0.81147544 0.5571577  0.14373244 0.28638223]\n",
      "  [0.85519478 0.72960717 0.78168139 0.71833566]]\n",
      "\n",
      " [[0.81147544 0.58854396 0.42475202 0.35821531]\n",
      "  [0.69339302 0.72960717 0.83509467 0.71833566]]\n",
      "\n",
      " [[0.81147544 0.16425072 0.41830408 0.59086963]\n",
      "  [0.29449922 0.82047735 0.85623521 0.71833566]]]\n"
     ]
    }
   ],
   "source": [
    "#2.3.2\n",
    "x = np.random.random((6,3,2,4))\n",
    "print(x.shape)\n",
    "print(x[1])\n",
    "\n",
    "y = np.random.random((2,4))\n",
    "print(y.shape)\n",
    "print(y[1])\n",
    "\n",
    "z = np.maximum(x,y)\n",
    "print(z.shape)\n",
    "print(z[1])"
   ]
  },
  {
   "cell_type": "code",
   "execution_count": 20,
   "id": "946771bc",
   "metadata": {},
   "outputs": [
    {
     "name": "stdout",
     "output_type": "stream",
     "text": [
      "(2, 4)\n",
      "[[0.08523008 0.62845091 0.03169981 0.40049069]\n",
      " [0.72895537 0.23122785 0.33161044 0.14806672]]\n",
      "(2, 4)\n",
      "[[0.08564437 0.69225378]\n",
      " [0.6018142  0.45975242]\n",
      " [0.79645202 0.10236202]\n",
      " [0.66449333 0.48760233]]\n",
      "(2, 2)\n",
      "[[0.67688093 0.54645772]\n",
      " [0.56408829 0.71707166]]\n"
     ]
    }
   ],
   "source": [
    "#2.3.3\n",
    "p = np.random.random((2,4))\n",
    "print(p.shape)\n",
    "print(p)\n",
    "\n",
    "q = np.random.random((2,4))\n",
    "print(q.shape)\n",
    "print(np.transpose(q))\n",
    "\n",
    "y = np.dot(p,np.transpose(q))\n",
    "print(y.shape)\n",
    "print(y)"
   ]
  },
  {
   "cell_type": "code",
   "execution_count": 28,
   "id": "b955d29f",
   "metadata": {},
   "outputs": [
    {
     "name": "stdout",
     "output_type": "stream",
     "text": [
      "(2,)\n",
      "[0.75401171 0.35014453]\n",
      "(2,)\n",
      "[0.66273333 0.62646466]\n",
      "()\n",
      "0.7190618675394861\n"
     ]
    }
   ],
   "source": [
    "#2.3.3\n",
    "p = np.random.random((2))\n",
    "print(p.shape)\n",
    "print(p)\n",
    "\n",
    "q = np.random.random((2))\n",
    "print(q.shape)\n",
    "print((q))\n",
    "\n",
    "y = np.dot(p,(q))\n",
    "print(y.shape)\n",
    "print(y)"
   ]
  },
  {
   "cell_type": "code",
   "execution_count": 38,
   "id": "7b343462",
   "metadata": {},
   "outputs": [
    {
     "name": "stdout",
     "output_type": "stream",
     "text": [
      "[[0. 1.]\n",
      " [2. 3.]\n",
      " [4. 5.]]\n",
      "(3, 2)\n",
      "[[0. 1. 2. 3. 4. 5.]]\n",
      "(1, 6)\n",
      "[[0. 2. 4.]\n",
      " [1. 3. 5.]]\n",
      "(2, 3)\n"
     ]
    }
   ],
   "source": [
    "#2.3.4\n",
    "x = np.array([[0.,1.],[2.,3.],[4.,5.]])\n",
    "print(x)\n",
    "print(x.shape)\n",
    "\n",
    "y = x.reshape([1,6])\n",
    "print(y)\n",
    "print(y.shape)\n",
    "\n",
    "z = np.transpose(x)\n",
    "print(z)\n",
    "print(z.shape)"
   ]
  },
  {
   "cell_type": "code",
   "execution_count": null,
   "id": "3394f2ca",
   "metadata": {},
   "outputs": [],
   "source": []
  }
 ],
 "metadata": {
  "kernelspec": {
   "display_name": "Python 3 (ipykernel)",
   "language": "python",
   "name": "python3"
  },
  "language_info": {
   "codemirror_mode": {
    "name": "ipython",
    "version": 3
   },
   "file_extension": ".py",
   "mimetype": "text/x-python",
   "name": "python",
   "nbconvert_exporter": "python",
   "pygments_lexer": "ipython3",
   "version": "3.9.7"
  }
 },
 "nbformat": 4,
 "nbformat_minor": 5
}
