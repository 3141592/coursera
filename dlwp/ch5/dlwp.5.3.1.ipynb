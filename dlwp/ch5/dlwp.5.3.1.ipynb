{
 "cells": [
  {
   "cell_type": "code",
   "execution_count": 14,
   "id": "151a4c77",
   "metadata": {},
   "outputs": [],
   "source": [
    "#5.3.1 Feature Extraction\n",
    "import tensorflow as tf\n",
    "from tensorflow.keras.applications import VGG16\n",
    "\n",
    "conv_base = VGG16(weights='imagenet',\n",
    "                  include_top=False,\n",
    "                  input_shape=(150,150,3))\n"
   ]
  },
  {
   "cell_type": "code",
   "execution_count": 15,
   "id": "122b5671",
   "metadata": {},
   "outputs": [
    {
     "name": "stdout",
     "output_type": "stream",
     "text": [
      "Found 2000 images belonging to 2 classes.\n",
      "Found 1000 images belonging to 2 classes.\n",
      "Found 1000 images belonging to 2 classes.\n"
     ]
    }
   ],
   "source": [
    "# Listing 5.17 Extracting features using the pretrained convolutional base\n",
    "import os\n",
    "import numpy as np\n",
    "from tensorflow.keras.preprocessing.image import ImageDataGenerator\n",
    "\n",
    "# directories\n",
    "base_dir = '/Users/roy/Downloads/cats_and_dogs_small'\n",
    "train_dir = os.path.join(base_dir, 'train')\n",
    "validation_dir = os.path.join(base_dir, 'validation')\n",
    "test_dir = os.path.join(base_dir, 'test')\n",
    "\n",
    "datagen = ImageDataGenerator(rescale=1./255)\n",
    "batch_size = 20\n",
    "\n",
    "def extract_features(directory, sample_count):\n",
    "    features = np.zeros(shape=(sample_count,4,4,512))\n",
    "    labels = np.zeros(shape=(sample_count))\n",
    "    generator = datagen.flow_from_directory(\n",
    "        directory,\n",
    "        target_size=(150, 150),\n",
    "        batch_size=batch_size,\n",
    "        class_mode='binary')\n",
    "    \n",
    "    i = 0\n",
    "    for inputs_batch, labels_batch in generator:\n",
    "        features_batch = conv_base.predict(inputs_batch)\n",
    "        features[i * batch_size : (i + 1) * batch_size] = features_batch\n",
    "        labels[i * batch_size : (i + 1) * batch_size] = labels_batch\n",
    "        i += 1\n",
    "        if i * batch_size >= sample_count:\n",
    "            break\n",
    "    return features, labels\n",
    "\n",
    "train_features, train_labels = extract_features(train_dir, 2000)\n",
    "validation_features, validation_labels = extract_features(validation_dir, 1000)\n",
    "test_features, test_labels = extract_features(test_dir, 1000)\n",
    "\n",
    "train_features = np.reshape(train_features, (2000,4 * 4 * 512))\n",
    "validation_features = np.reshape(validation_features, (1000,4 * 4 * 512))\n",
    "test_features = np.reshape(test_features, (1000,4 * 4 * 512))"
   ]
  },
  {
   "cell_type": "code",
   "execution_count": 8,
   "id": "2fa0b479",
   "metadata": {},
   "outputs": [
    {
     "name": "stderr",
     "output_type": "stream",
     "text": [
      "2021-12-11 22:57:45.811109: I tensorflow/core/profiler/lib/profiler_session.cc:131] Profiler session initializing.\n",
      "2021-12-11 22:57:45.811123: I tensorflow/core/profiler/lib/profiler_session.cc:146] Profiler session started.\n",
      "2021-12-11 22:57:45.811243: I tensorflow/core/profiler/lib/profiler_session.cc:164] Profiler session tear down.\n"
     ]
    },
    {
     "name": "stdout",
     "output_type": "stream",
     "text": [
      "Epoch 1/30\n"
     ]
    },
    {
     "name": "stderr",
     "output_type": "stream",
     "text": [
      "2021-12-11 22:57:46.324451: I tensorflow/core/profiler/lib/profiler_session.cc:131] Profiler session initializing.\n",
      "2021-12-11 22:57:46.324468: I tensorflow/core/profiler/lib/profiler_session.cc:146] Profiler session started.\n",
      "2021-12-11 22:57:46.333358: I tensorflow/core/profiler/lib/profiler_session.cc:66] Profiler session collecting data.\n",
      "2021-12-11 22:57:46.334857: I tensorflow/core/profiler/lib/profiler_session.cc:164] Profiler session tear down.\n"
     ]
    },
    {
     "name": "stdout",
     "output_type": "stream",
     "text": [
      "100/100 - 1s - loss: 0.6126 - accuracy: 0.6575 - val_loss: 0.8339 - val_accuracy: 0.5050\n",
      "Epoch 2/30\n",
      "100/100 - 1s - loss: 0.4303 - accuracy: 0.8145 - val_loss: 0.9956 - val_accuracy: 0.5010\n",
      "Epoch 3/30\n",
      "100/100 - 1s - loss: 0.3573 - accuracy: 0.8530 - val_loss: 1.1330 - val_accuracy: 0.4950\n",
      "Epoch 4/30\n",
      "100/100 - 1s - loss: 0.3229 - accuracy: 0.8650 - val_loss: 1.2331 - val_accuracy: 0.5080\n",
      "Epoch 5/30\n",
      "100/100 - 1s - loss: 0.2898 - accuracy: 0.8810 - val_loss: 1.3435 - val_accuracy: 0.5020\n",
      "Epoch 6/30\n",
      "100/100 - 1s - loss: 0.2624 - accuracy: 0.8985 - val_loss: 1.4285 - val_accuracy: 0.5040\n",
      "Epoch 7/30\n",
      "100/100 - 1s - loss: 0.2484 - accuracy: 0.9095 - val_loss: 1.4947 - val_accuracy: 0.5070\n",
      "Epoch 8/30\n",
      "100/100 - 1s - loss: 0.2331 - accuracy: 0.9140 - val_loss: 1.5529 - val_accuracy: 0.4980\n",
      "Epoch 9/30\n",
      "100/100 - 1s - loss: 0.2190 - accuracy: 0.9165 - val_loss: 1.6097 - val_accuracy: 0.4940\n",
      "Epoch 10/30\n",
      "100/100 - 1s - loss: 0.2025 - accuracy: 0.9245 - val_loss: 1.6871 - val_accuracy: 0.4990\n",
      "Epoch 11/30\n",
      "100/100 - 1s - loss: 0.1927 - accuracy: 0.9310 - val_loss: 1.7424 - val_accuracy: 0.4990\n",
      "Epoch 12/30\n",
      "100/100 - 1s - loss: 0.1844 - accuracy: 0.9275 - val_loss: 1.7833 - val_accuracy: 0.4970\n",
      "Epoch 13/30\n",
      "100/100 - 1s - loss: 0.1773 - accuracy: 0.9315 - val_loss: 1.8281 - val_accuracy: 0.4960\n",
      "Epoch 14/30\n",
      "100/100 - 1s - loss: 0.1671 - accuracy: 0.9400 - val_loss: 1.8930 - val_accuracy: 0.4970\n",
      "Epoch 15/30\n",
      "100/100 - 1s - loss: 0.1559 - accuracy: 0.9435 - val_loss: 1.9385 - val_accuracy: 0.4970\n",
      "Epoch 16/30\n",
      "100/100 - 1s - loss: 0.1545 - accuracy: 0.9425 - val_loss: 1.9508 - val_accuracy: 0.4970\n",
      "Epoch 17/30\n",
      "100/100 - 1s - loss: 0.1441 - accuracy: 0.9495 - val_loss: 2.0086 - val_accuracy: 0.4920\n",
      "Epoch 18/30\n",
      "100/100 - 1s - loss: 0.1364 - accuracy: 0.9565 - val_loss: 2.0641 - val_accuracy: 0.4980\n",
      "Epoch 19/30\n",
      "100/100 - 1s - loss: 0.1341 - accuracy: 0.9545 - val_loss: 2.1271 - val_accuracy: 0.5020\n",
      "Epoch 20/30\n",
      "100/100 - 1s - loss: 0.1272 - accuracy: 0.9565 - val_loss: 2.1266 - val_accuracy: 0.4950\n",
      "Epoch 21/30\n",
      "100/100 - 1s - loss: 0.1246 - accuracy: 0.9575 - val_loss: 2.1513 - val_accuracy: 0.4940\n",
      "Epoch 22/30\n",
      "100/100 - 1s - loss: 0.1210 - accuracy: 0.9615 - val_loss: 2.1844 - val_accuracy: 0.4980\n",
      "Epoch 23/30\n",
      "100/100 - 1s - loss: 0.1123 - accuracy: 0.9655 - val_loss: 2.2576 - val_accuracy: 0.4950\n",
      "Epoch 24/30\n",
      "100/100 - 1s - loss: 0.1060 - accuracy: 0.9665 - val_loss: 2.2671 - val_accuracy: 0.4990\n",
      "Epoch 25/30\n",
      "100/100 - 1s - loss: 0.1072 - accuracy: 0.9650 - val_loss: 2.2827 - val_accuracy: 0.4950\n",
      "Epoch 26/30\n",
      "100/100 - 1s - loss: 0.1082 - accuracy: 0.9615 - val_loss: 2.2663 - val_accuracy: 0.4990\n",
      "Epoch 27/30\n",
      "100/100 - 1s - loss: 0.0998 - accuracy: 0.9650 - val_loss: 2.3168 - val_accuracy: 0.4990\n",
      "Epoch 28/30\n",
      "100/100 - 1s - loss: 0.0935 - accuracy: 0.9705 - val_loss: 2.3716 - val_accuracy: 0.5000\n",
      "Epoch 29/30\n",
      "100/100 - 1s - loss: 0.0894 - accuracy: 0.9700 - val_loss: 2.4061 - val_accuracy: 0.4980\n",
      "Epoch 30/30\n",
      "100/100 - 1s - loss: 0.0885 - accuracy: 0.9750 - val_loss: 2.4641 - val_accuracy: 0.4950\n"
     ]
    }
   ],
   "source": [
    "#Listing 5.18 Defining nad training the densely connected classifier\n",
    "from tensorflow.keras import layers\n",
    "from tensorflow.keras import models\n",
    "from tensorflow.keras import optimizers\n",
    "\n",
    "# Configure logging\n",
    "import logging\n",
    "import os\n",
    "os.environ['TF_CPP_MIN_LOG_LEVEL'] = '3'  # FATAL\n",
    "logging.getLogger('tensorflow').setLevel(logging.FATAL)\n",
    "\n",
    "# tensorboard setup\n",
    "import datetime\n",
    "log_dir = \"logs/fit/\" + datetime.datetime.now().strftime(\"%Y%m%d-%H%M%S\")\n",
    "tensorboard_callback = tf.keras.callbacks.TensorBoard(log_dir=log_dir, histogram_freq=1)\n",
    "\n",
    "model = models.Sequential()\n",
    "model.add(layers.Dense(256, activation='relu', input_dim=4 * 4 * 512))\n",
    "model.add(layers.Dropout(0.5))\n",
    "model.add(layers.Dense(1, activation='sigmoid'))\n",
    "\n",
    "model.compile(loss='binary_crossentropy',\n",
    "              optimizer=tf.keras.optimizers.RMSprop(learning_rate=2e-5),   \n",
    "              metrics=['accuracy'])\n",
    "\n",
    "history = model.fit(\n",
    "    train_features,\n",
    "    train_labels,\n",
    "    epochs=30,\n",
    "    batch_size=20,\n",
    "    validation_data=(validation_features,validation_labels),\n",
    "    callbacks=[tensorboard_callback],\n",
    "    verbose=2)"
   ]
  },
  {
   "cell_type": "code",
   "execution_count": 16,
   "id": "aa774144",
   "metadata": {},
   "outputs": [
    {
     "name": "stdout",
     "output_type": "stream",
     "text": [
      "dict_keys(['loss', 'accuracy', 'val_loss', 'val_accuracy'])\n"
     ]
    },
    {
     "data": {
      "image/png": "[encoded data removed]",
      "text/plain": [
       "<Figure size 432x288 with 1 Axes>"
      ]
     },
     "metadata": {
      "needs_background": "light"
     },
     "output_type": "display_data"
    },
    {
     "data": {
      "image/png": "[encoded data removed]",
      "text/plain": [
       "<Figure size 432x288 with 1 Axes>"
      ]
     },
     "metadata": {
      "needs_background": "light"
     },
     "output_type": "display_data"
    }
   ],
   "source": [
    "# Listing 5.19 Plotting the results\n",
    "import matplotlib.pyplot as plt\n",
    "\n",
    "print(history.history.keys())\n",
    "\n",
    "acc = history.history['accuracy']\n",
    "val_acc = history.history['val_accuracy']\n",
    "loss = history.history['loss']\n",
    "val_loss = history.history['val_loss']\n",
    "\n",
    "epochs_acc = range(1, len(acc) + 1)\n",
    "epochs_val = range(1, len(val_acc) + 1)\n",
    "\n",
    "plt.plot(epochs_acc, acc, 'bo', label='Training acc')\n",
    "plt.plot(epochs_val, val_acc, 'b', label='Validation acc')\n",
    "plt.legend()\n",
    "plt.figure()\n",
    "plt.plot(epochs_acc, loss, 'ro', label='Training loss')\n",
    "plt.plot(epochs_val, val_loss, 'r', label='Validation loss')\n",
    "plt.legend()\n",
    "\n",
    "plt.show()"
   ]
  },
  {
   "cell_type": "code",
   "execution_count": null,
   "id": "9918e184",
   "metadata": {},
   "outputs": [],
   "source": []
  }
 ],
 "metadata": {
  "kernelspec": {
   "display_name": "Python 3 (ipykernel)",
   "language": "python",
   "name": "python3"
  },
  "language_info": {
   "codemirror_mode": {
    "name": "ipython",
    "version": 3
   },
   "file_extension": ".py",
   "mimetype": "text/x-python",
   "name": "python",
   "nbconvert_exporter": "python",
   "pygments_lexer": "ipython3",
   "version": "3.9.7"
  }
 },
 "nbformat": 4,
 "nbformat_minor": 5
}
