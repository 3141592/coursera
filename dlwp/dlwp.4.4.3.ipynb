{
 "cells": [
  {
   "cell_type": "code",
   "execution_count": 12,
   "id": "1a9c5590",
   "metadata": {},
   "outputs": [
    {
     "name": "stdout",
     "output_type": "stream",
     "text": [
      "[[1. 2. 3. 4. 5.]\n",
      " [1. 2. 3. 4. 5.]\n",
      " [1. 2. 3. 4. 5.]\n",
      " [1. 2. 3. 4. 5.]\n",
      " [1. 2. 3. 4. 5.]]\n",
      "[[1. 2. 0. 0. 0.]\n",
      " [0. 2. 0. 4. 5.]\n",
      " [1. 0. 3. 4. 5.]\n",
      " [0. 0. 3. 4. 0.]\n",
      " [0. 2. 3. 0. 0.]]\n"
     ]
    }
   ],
   "source": [
    "#4.4.3\n",
    "import numpy as np\n",
    "layer_output = np.ones((5,5))\n",
    "layer_output += np.arange(5)\n",
    "print(layer_output)\n",
    "\n",
    "# 50% dropout rate\n",
    "layer_output *= np.random.randint(0,high=2,size=layer_output.shape)\n",
    "print(layer_output)"
   ]
  },
  {
   "cell_type": "code",
   "execution_count": null,
   "id": "b47523f6",
   "metadata": {},
   "outputs": [],
   "source": []
  }
 ],
 "metadata": {
  "kernelspec": {
   "display_name": "Python 3 (ipykernel)",
   "language": "python",
   "name": "python3"
  },
  "language_info": {
   "codemirror_mode": {
    "name": "ipython",
    "version": 3
   },
   "file_extension": ".py",
   "mimetype": "text/x-python",
   "name": "python",
   "nbconvert_exporter": "python",
   "pygments_lexer": "ipython3",
   "version": "3.9.7"
  }
 },
 "nbformat": 4,
 "nbformat_minor": 5
}
