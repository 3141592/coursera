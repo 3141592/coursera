{
 "cells": [
  {
   "cell_type": "code",
   "execution_count": 25,
   "id": "895eaf8b",
   "metadata": {},
   "outputs": [
    {
     "name": "stdout",
     "output_type": "stream",
     "text": [
      "(10000, 10000)\n",
      "(10000,)\n",
      "Epoch 1/20\n",
      "15/15 [==============================] - 1s 59ms/step - loss: 0.5611 - accuracy: 0.7470 - val_loss: 0.5246 - val_accuracy: 0.7794\n",
      "Epoch 2/20\n",
      "15/15 [==============================] - 0s 27ms/step - loss: 0.3912 - accuracy: 0.8835 - val_loss: 0.3734 - val_accuracy: 0.8731\n",
      "Epoch 3/20\n",
      "15/15 [==============================] - 0s 27ms/step - loss: 0.3010 - accuracy: 0.9179 - val_loss: 0.3576 - val_accuracy: 0.8622\n",
      "Epoch 4/20\n",
      "15/15 [==============================] - 0s 28ms/step - loss: 0.2398 - accuracy: 0.9347 - val_loss: 0.3023 - val_accuracy: 0.8846\n",
      "Epoch 5/20\n",
      "15/15 [==============================] - 0s 26ms/step - loss: 0.1941 - accuracy: 0.9476 - val_loss: 0.3868 - val_accuracy: 0.8481\n",
      "Epoch 6/20\n",
      "15/15 [==============================] - 0s 26ms/step - loss: 0.1561 - accuracy: 0.9602 - val_loss: 0.3179 - val_accuracy: 0.8799\n",
      "Epoch 7/20\n",
      "15/15 [==============================] - 0s 26ms/step - loss: 0.1339 - accuracy: 0.9628 - val_loss: 0.2904 - val_accuracy: 0.8841\n",
      "Epoch 8/20\n",
      "15/15 [==============================] - 0s 28ms/step - loss: 0.0940 - accuracy: 0.9783 - val_loss: 0.3328 - val_accuracy: 0.8693\n",
      "Epoch 9/20\n",
      "15/15 [==============================] - 0s 26ms/step - loss: 0.0938 - accuracy: 0.9743 - val_loss: 0.3244 - val_accuracy: 0.8782\n",
      "Epoch 10/20\n",
      "15/15 [==============================] - 0s 25ms/step - loss: 0.0816 - accuracy: 0.9767 - val_loss: 0.3420 - val_accuracy: 0.8802\n",
      "Epoch 11/20\n",
      "15/15 [==============================] - 0s 25ms/step - loss: 0.0495 - accuracy: 0.9905 - val_loss: 0.3722 - val_accuracy: 0.8726\n",
      "Epoch 12/20\n",
      "15/15 [==============================] - 0s 26ms/step - loss: 0.0660 - accuracy: 0.9811 - val_loss: 0.4311 - val_accuracy: 0.8709\n",
      "Epoch 13/20\n",
      "15/15 [==============================] - 0s 26ms/step - loss: 0.0321 - accuracy: 0.9948 - val_loss: 0.4142 - val_accuracy: 0.8747\n",
      "Epoch 14/20\n",
      "15/15 [==============================] - 0s 25ms/step - loss: 0.0264 - accuracy: 0.9961 - val_loss: 0.4997 - val_accuracy: 0.8535\n",
      "Epoch 15/20\n",
      "15/15 [==============================] - 0s 25ms/step - loss: 0.0496 - accuracy: 0.9846 - val_loss: 0.4524 - val_accuracy: 0.8737\n",
      "Epoch 16/20\n",
      "15/15 [==============================] - 0s 25ms/step - loss: 0.0176 - accuracy: 0.9979 - val_loss: 0.4734 - val_accuracy: 0.8737\n",
      "Epoch 17/20\n",
      "15/15 [==============================] - 0s 26ms/step - loss: 0.0354 - accuracy: 0.9891 - val_loss: 0.6595 - val_accuracy: 0.8513\n",
      "Epoch 18/20\n",
      "15/15 [==============================] - 0s 25ms/step - loss: 0.0135 - accuracy: 0.9973 - val_loss: 0.5202 - val_accuracy: 0.8698\n",
      "Epoch 19/20\n",
      "15/15 [==============================] - 0s 25ms/step - loss: 0.0090 - accuracy: 0.9990 - val_loss: 0.5526 - val_accuracy: 0.8663\n",
      "Epoch 20/20\n",
      "15/15 [==============================] - 0s 25ms/step - loss: 0.0071 - accuracy: 0.9992 - val_loss: 0.5868 - val_accuracy: 0.8673\n",
      "782/782 [==============================] - 1s 810us/step - loss: 0.6647 - accuracy: 0.8530\n",
      "dict_keys(['loss', 'accuracy', 'val_loss', 'val_accuracy'])\n"
     ]
    }
   ],
   "source": [
    "#3.4.3\n",
    "from keras.datasets import imdb\n",
    "\n",
    "(train_data, train_labels), (test_data, test_labels) = imdb.load_data(num_words =10000)\n",
    "\n",
    "import numpy as np\n",
    "import random\n",
    "\n",
    "def vectorize_sequences(sequences, dimension=10000):\n",
    "    results = np.zeros((len(sequences), dimension))\n",
    "    for i, sequence in enumerate(sequences):\n",
    "        results[i, sequence] = 1.\n",
    "    return results\n",
    "\n",
    "x_train = vectorize_sequences(train_data)\n",
    "x_test = vectorize_sequences(test_data)\n",
    "\n",
    "y_train = np.asarray(train_labels).astype('float32')\n",
    "y_test = np.asarray(test_labels).astype('float32')\n",
    "\n",
    "x_val = x_train[:10000]\n",
    "partial_x_train = x_train[10000:]\n",
    "\n",
    "y_val = y_train[:10000]\n",
    "partial_y_train = y_train[10000:]\n",
    "\n",
    "from keras import models\n",
    "from keras import layers\n",
    "\n",
    "model = models.Sequential()\n",
    "model.add(layers.Dense(16, activation='tanh', input_shape=(10000,)))\n",
    "model.add(layers.Dense(16, activation='tanh'))\n",
    "model.add(layers.Dense(16, activation='relu'))\n",
    "model.add(layers.Dense(1, activation='sigmoid'))\n",
    "\n",
    "model.compile(optimizer='rmsprop',\n",
    "             loss='binary_crossentropy',\n",
    "             metrics=['accuracy'])\n",
    "\n",
    "print(x_val.shape)\n",
    "print(y_val.shape)\n",
    "\n",
    "history = model.fit(partial_x_train,\n",
    "                    partial_y_train,\n",
    "                    epochs=20,\n",
    "                    batch_size=1024,\n",
    "                    validation_data=(x_val, y_val))\n",
    "\n",
    "results = model.evaluate(x_test, y_test)\n",
    "\n",
    "print(history.history.keys())"
   ]
  },
  {
   "cell_type": "code",
   "execution_count": 24,
   "id": "f245f054",
   "metadata": {},
   "outputs": [
    {
     "data": {
      "image/png": "[encoded data removed]",
      "text/plain": [
       "<Figure size 432x288 with 1 Axes>"
      ]
     },
     "metadata": {
      "needs_background": "light"
     },
     "output_type": "display_data"
    }
   ],
   "source": [
    "#3.4.4\n",
    "import matplotlib.pyplot as plt\n",
    "\n",
    "history_dict = history.history\n",
    "loss_values = history_dict['loss']\n",
    "val_loss_values = history_dict['val_loss']\n",
    "acc_values = history_dict['accuracy']\n",
    "val_acc_values = history_dict['val_accuracy']\n",
    "\n",
    "epochs = range(1, len(history_dict['accuracy']) + 1)\n",
    "\n",
    "plt.plot(epochs, loss_values, 'bo', label='Training loss')\n",
    "plt.plot(epochs, val_loss_values, 'b', label='Validation loss')\n",
    "plt.plot(epochs, acc_values, 'ro', label='Training acc')\n",
    "plt.plot(epochs, val_acc_values, 'r', label='Validation acc')\n",
    "plt.title('Training and validation loss')\n",
    "plt.xlabel('Epochs')\n",
    "plt.ylabel('Loss')\n",
    "plt.legend()\n",
    "plt.show()"
   ]
  },
  {
   "cell_type": "code",
   "execution_count": null,
   "id": "e0e87a7c",
   "metadata": {},
   "outputs": [],
   "source": []
  }
 ],
 "metadata": {
  "kernelspec": {
   "display_name": "Python 3 (ipykernel)",
   "language": "python",
   "name": "python3"
  },
  "language_info": {
   "codemirror_mode": {
    "name": "ipython",
    "version": 3
   },
   "file_extension": ".py",
   "mimetype": "text/x-python",
   "name": "python",
   "nbconvert_exporter": "python",
   "pygments_lexer": "ipython3",
   "version": "3.9.7"
  }
 },
 "nbformat": 4,
 "nbformat_minor": 5
}
