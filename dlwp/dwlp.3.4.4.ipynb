{
 "cells": [
  {
   "cell_type": "code",
   "execution_count": 6,
   "id": "895eaf8b",
   "metadata": {},
   "outputs": [
    {
     "name": "stdout",
     "output_type": "stream",
     "text": [
      "(10000, 10000)\n",
      "(10000,)\n",
      "Epoch 1/4\n",
      "30/30 [==============================] - 1s 32ms/step - loss: 0.4964 - accuracy: 0.7866 - val_loss: 0.3639 - val_accuracy: 0.8714\n",
      "Epoch 2/4\n",
      "30/30 [==============================] - 0s 14ms/step - loss: 0.2865 - accuracy: 0.9081 - val_loss: 0.3122 - val_accuracy: 0.8783\n",
      "Epoch 3/4\n",
      "30/30 [==============================] - 0s 13ms/step - loss: 0.2089 - accuracy: 0.9305 - val_loss: 0.2765 - val_accuracy: 0.8912\n",
      "Epoch 4/4\n",
      "30/30 [==============================] - 0s 15ms/step - loss: 0.1655 - accuracy: 0.9458 - val_loss: 0.2784 - val_accuracy: 0.8904\n",
      "782/782 [==============================] - 1s 846us/step - loss: 0.2955 - accuracy: 0.8813\n",
      "[0.2954743206501007, 0.8813199996948242]\n",
      "model.predict\n"
     ]
    },
    {
     "data": {
      "text/plain": [
       "array([[0.24446207],\n",
       "       [0.99826676],\n",
       "       [0.9093884 ],\n",
       "       ...,\n",
       "       [0.08997631],\n",
       "       [0.11699   ],\n",
       "       [0.47290146]], dtype=float32)"
      ]
     },
     "execution_count": 6,
     "metadata": {},
     "output_type": "execute_result"
    }
   ],
   "source": [
    "#3.4.3\n",
    "from keras.datasets import imdb\n",
    "\n",
    "(train_data, train_labels), (test_data, test_labels) = imdb.load_data(num_words =10000)\n",
    "\n",
    "import numpy as np\n",
    "import random\n",
    "\n",
    "def vectorize_sequences(sequences, dimension=10000):\n",
    "    results = np.zeros((len(sequences), dimension))\n",
    "    for i, sequence in enumerate(sequences):\n",
    "        results[i, sequence] = 1.\n",
    "    return results\n",
    "\n",
    "x_train = vectorize_sequences(train_data)\n",
    "x_test = vectorize_sequences(test_data)\n",
    "\n",
    "y_train = np.asarray(train_labels).astype('float32')\n",
    "y_test = np.asarray(test_labels).astype('float32')\n",
    "\n",
    "x_val = x_train[:10000]\n",
    "partial_x_train = x_train[10000:]\n",
    "\n",
    "y_val = y_train[:10000]\n",
    "partial_y_train = y_train[10000:]\n",
    "\n",
    "from keras import models\n",
    "from keras import layers\n",
    "\n",
    "model = models.Sequential()\n",
    "model.add(layers.Dense(16, activation='relu', input_shape=(10000,)))\n",
    "model.add(layers.Dense(16, activation='relu'))\n",
    "model.add(layers.Dense(1, activation='sigmoid'))\n",
    "\n",
    "model.compile(optimizer='rmsprop',\n",
    "             loss='binary_crossentropy',\n",
    "             metrics=['accuracy'])\n",
    "\n",
    "print(x_val.shape)\n",
    "print(y_val.shape)\n",
    "\n",
    "history = model.fit(partial_x_train,\n",
    "                    partial_y_train,\n",
    "                    epochs=4,\n",
    "                    batch_size=512,\n",
    "                    validation_data=(x_val, y_val))\n",
    "\n",
    "results = model.evaluate(x_test, y_test)\n",
    "print(results)\n",
    "\n",
    "print('model.predict')\n",
    "model.predict(x_test)"
   ]
  },
  {
   "cell_type": "code",
   "execution_count": null,
   "id": "204245b5",
   "metadata": {},
   "outputs": [],
   "source": []
  }
 ],
 "metadata": {
  "kernelspec": {
   "display_name": "Python 3 (ipykernel)",
   "language": "python",
   "name": "python3"
  },
  "language_info": {
   "codemirror_mode": {
    "name": "ipython",
    "version": 3
   },
   "file_extension": ".py",
   "mimetype": "text/x-python",
   "name": "python",
   "nbconvert_exporter": "python",
   "pygments_lexer": "ipython3",
   "version": "3.9.7"
  }
 },
 "nbformat": 4,
 "nbformat_minor": 5
}
