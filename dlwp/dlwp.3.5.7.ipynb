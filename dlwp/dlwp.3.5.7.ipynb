{
 "cells": [
  {
   "cell_type": "code",
   "execution_count": 14,
   "id": "1bfd07c1",
   "metadata": {},
   "outputs": [
    {
     "name": "stderr",
     "output_type": "stream",
     "text": [
      "2021-11-10 18:06:36.232899: I tensorflow/core/profiler/lib/profiler_session.cc:131] Profiler session initializing.\n",
      "2021-11-10 18:06:36.232929: I tensorflow/core/profiler/lib/profiler_session.cc:146] Profiler session started.\n",
      "2021-11-10 18:06:36.234451: I tensorflow/core/profiler/lib/profiler_session.cc:164] Profiler session tear down.\n"
     ]
    },
    {
     "name": "stdout",
     "output_type": "stream",
     "text": [
      "8982\n",
      "2246\n",
      "Epoch 1/4\n",
      "5/8 [=================>............] - ETA: 0s - loss: 3.3499 - accuracy: 0.3877"
     ]
    },
    {
     "name": "stderr",
     "output_type": "stream",
     "text": [
      "2021-11-10 18:06:38.385482: I tensorflow/core/profiler/lib/profiler_session.cc:131] Profiler session initializing.\n",
      "2021-11-10 18:06:38.385498: I tensorflow/core/profiler/lib/profiler_session.cc:146] Profiler session started.\n",
      "2021-11-10 18:06:38.449051: I tensorflow/core/profiler/lib/profiler_session.cc:66] Profiler session collecting data.\n",
      "2021-11-10 18:06:38.450380: I tensorflow/core/profiler/lib/profiler_session.cc:164] Profiler session tear down.\n",
      "2021-11-10 18:06:38.452174: I tensorflow/core/profiler/rpc/client/save_profile.cc:136] Creating directory: logs/fit/20211110-180636/train/plugins/profile/2021_11_10_18_06_38\n",
      "\n",
      "2021-11-10 18:06:38.453425: I tensorflow/core/profiler/rpc/client/save_profile.cc:142] Dumped gzipped tool data for trace.json.gz to logs/fit/20211110-180636/train/plugins/profile/2021_11_10_18_06_38/Roys-MacBook-Pro.local.trace.json.gz\n",
      "2021-11-10 18:06:38.455935: I tensorflow/core/profiler/rpc/client/save_profile.cc:136] Creating directory: logs/fit/20211110-180636/train/plugins/profile/2021_11_10_18_06_38\n",
      "\n",
      "2021-11-10 18:06:38.456161: I tensorflow/core/profiler/rpc/client/save_profile.cc:142] Dumped gzipped tool data for memory_profile.json.gz to logs/fit/20211110-180636/train/plugins/profile/2021_11_10_18_06_38/Roys-MacBook-Pro.local.memory_profile.json.gz\n",
      "2021-11-10 18:06:38.457304: I tensorflow/core/profiler/rpc/client/capture_profile.cc:251] Creating directory: logs/fit/20211110-180636/train/plugins/profile/2021_11_10_18_06_38\n",
      "Dumped tool data for xplane.pb to logs/fit/20211110-180636/train/plugins/profile/2021_11_10_18_06_38/Roys-MacBook-Pro.local.xplane.pb\n",
      "Dumped tool data for overview_page.pb to logs/fit/20211110-180636/train/plugins/profile/2021_11_10_18_06_38/Roys-MacBook-Pro.local.overview_page.pb\n",
      "Dumped tool data for input_pipeline.pb to logs/fit/20211110-180636/train/plugins/profile/2021_11_10_18_06_38/Roys-MacBook-Pro.local.input_pipeline.pb\n",
      "Dumped tool data for tensorflow_stats.pb to logs/fit/20211110-180636/train/plugins/profile/2021_11_10_18_06_38/Roys-MacBook-Pro.local.tensorflow_stats.pb\n",
      "Dumped tool data for kernel_stats.pb to logs/fit/20211110-180636/train/plugins/profile/2021_11_10_18_06_38/Roys-MacBook-Pro.local.kernel_stats.pb\n",
      "\n"
     ]
    },
    {
     "name": "stdout",
     "output_type": "stream",
     "text": [
      "8/8 [==============================] - 1s 65ms/step - loss: 3.0306 - accuracy: 0.4493 - val_loss: 2.1629 - val_accuracy: 0.5990\n",
      "Epoch 2/4\n",
      "8/8 [==============================] - 0s 32ms/step - loss: 1.7992 - accuracy: 0.6626 - val_loss: 1.6025 - val_accuracy: 0.6550\n",
      "Epoch 3/4\n",
      "8/8 [==============================] - 0s 31ms/step - loss: 1.3457 - accuracy: 0.7162 - val_loss: 1.3453 - val_accuracy: 0.7110\n",
      "Epoch 4/4\n",
      "8/8 [==============================] - 0s 33ms/step - loss: 1.0970 - accuracy: 0.7662 - val_loss: 1.2207 - val_accuracy: 0.7260\n",
      "71/71 [==============================] - 0s 1ms/step - loss: 1.2826 - accuracy: 0.7084\n"
     ]
    }
   ],
   "source": [
    "#3.5.7\n",
    "# Load the TensorBoard notebook extension\n",
    "#%load_ext tensorboard\n",
    "import tensorflow as tf\n",
    "import datetime\n",
    "from keras.datasets import reuters\n",
    "\n",
    "# Clear any logs from previous runs\n",
    "!rm -rf ./logs/ \n",
    "\n",
    "log_dir = \"logs/fit/\" + datetime.datetime.now().strftime(\"%Y%m%d-%H%M%S\")\n",
    "tensorboard_callback = tf.keras.callbacks.TensorBoard(log_dir=log_dir, histogram_freq=1)\n",
    "\n",
    "(train_data, train_labels), (test_data, test_labels) = reuters.load_data(num_words=10000)\n",
    "\n",
    "print(len(train_data))\n",
    "print(len(test_data))\n",
    "\n",
    "word_index = reuters.get_word_index()\n",
    "reverse_word_index = dict([(value, key) for (key, value) in word_index.items()])\n",
    "decoded_newswire = ' '.join([reverse_word_index.get(i - 3, '?') for i in train_data[0]])\n",
    "\n",
    "import numpy as np\n",
    "\n",
    "def vectorize_sequences(sequences, dimension=10000):\n",
    "    results = np.zeros((len(sequences), dimension))\n",
    "    for i, sequence in enumerate(sequences):\n",
    "        results[i, sequence] = 1.\n",
    "    return results\n",
    "\n",
    "x_train = vectorize_sequences(train_data)\n",
    "x_test = vectorize_sequences(test_data)\n",
    "\n",
    "def to_one_hot(labels, dimension=46):\n",
    "    results = np.zeros((len(labels), dimension))\n",
    "    for i, label in enumerate(labels):\n",
    "        results[i, label] = 1\n",
    "    return results\n",
    "\n",
    "one_hot_train_labels = to_one_hot(train_labels)\n",
    "one_hot_test_labels = to_one_hot(test_labels)\n",
    "\n",
    "from keras import models\n",
    "from keras import layers\n",
    "\n",
    "model = models.Sequential()\n",
    "model.add(layers.Dense(64, activation='relu', input_shape=(10000,)))\n",
    "model.add(layers.Dense(64, activation='relu'))\n",
    "model.add(layers.Dense(46, activation='softmax'))\n",
    "\n",
    "model.compile(optimizer='rmsprop',\n",
    "              loss='categorical_crossentropy',\n",
    "              metrics='accuracy')\n",
    "\n",
    "#3.5.4\n",
    "x_val = x_train[:1000]\n",
    "partial_x_train = x_train[1000:]\n",
    "\n",
    "y_val = one_hot_train_labels[:1000]\n",
    "partial_y_train = one_hot_train_labels[1000:]\n",
    "\n",
    "#3.18\n",
    "history = model.fit(partial_x_train,\n",
    "                    partial_y_train,\n",
    "                    epochs=4,\n",
    "                    batch_size=1024,\n",
    "                    validation_data=(x_val, y_val),\n",
    "                    callbacks=[tensorboard_callback])\n",
    "\n",
    "results = model.evaluate(x_test, one_hot_test_labels)\n"
   ]
  },
  {
   "cell_type": "code",
   "execution_count": 15,
   "id": "7b9c6f71",
   "metadata": {},
   "outputs": [
    {
     "name": "stdout",
     "output_type": "stream",
     "text": [
      "0.7662240266799927\n",
      "0.7260000109672546\n",
      "[3.4751758e-04 2.5782313e-03 3.1365579e-04 7.2386110e-01 2.2603354e-01\n",
      " 1.0128936e-04 4.1682468e-04 3.6127807e-04 1.2020085e-02 1.0096133e-03\n",
      " 1.8967845e-03 2.5873040e-03 4.5888644e-04 5.8523950e-04 7.1959023e-04\n",
      " 4.4577668e-05 6.6329162e-03 4.1204513e-04 3.1307453e-04 4.2319736e-03\n",
      " 4.8699686e-03 1.6138119e-03 1.2371814e-04 7.3148694e-04 6.0704513e-04\n",
      " 6.3406880e-04 1.5895697e-04 1.6977811e-04 5.8693334e-04 1.7857563e-04\n",
      " 6.2902825e-04 6.0561945e-04 6.7400069e-05 1.5404346e-04 4.0495946e-04\n",
      " 2.0502580e-04 5.7586958e-04 4.8262045e-05 4.1421523e-04 2.6869628e-04\n",
      " 4.0581406e-04 7.6552178e-04 3.2325758e-04 9.0902373e-05 1.0381099e-04\n",
      " 3.3768031e-04]\n",
      "0.9999999\n",
      "3\n"
     ]
    }
   ],
   "source": [
    "#3.5.7\n",
    "print(history.history['accuracy'][-1])\n",
    "print(history.history['val_accuracy'][-1])\n",
    "\n",
    "predictions = model.predict(x_test)\n",
    "print(predictions[0])\n",
    "print(np.sum(predictions[0]))\n",
    "print(np.argmax(predictions[0]))"
   ]
  },
  {
   "cell_type": "code",
   "execution_count": null,
   "id": "e78ee4cc",
   "metadata": {},
   "outputs": [],
   "source": []
  }
 ],
 "metadata": {
  "kernelspec": {
   "display_name": "Python 3 (ipykernel)",
   "language": "python",
   "name": "python3"
  },
  "language_info": {
   "codemirror_mode": {
    "name": "ipython",
    "version": 3
   },
   "file_extension": ".py",
   "mimetype": "text/x-python",
   "name": "python",
   "nbconvert_exporter": "python",
   "pygments_lexer": "ipython3",
   "version": "3.9.7"
  }
 },
 "nbformat": 4,
 "nbformat_minor": 5
}
