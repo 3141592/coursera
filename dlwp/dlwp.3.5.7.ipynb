{
 "cells": [
  {
   "cell_type": "code",
   "execution_count": 3,
   "id": "1bfd07c1",
   "metadata": {},
   "outputs": [
    {
     "name": "stdout",
     "output_type": "stream",
     "text": [
      "8982\n",
      "2246\n",
      "Epoch 1/4\n",
      "16/16 [==============================] - 1s 27ms/step - loss: 2.6704 - accuracy: 0.5342 - val_loss: 1.7643 - val_accuracy: 0.6430\n",
      "Epoch 2/4\n",
      "16/16 [==============================] - 0s 16ms/step - loss: 1.4360 - accuracy: 0.7047 - val_loss: 1.3307 - val_accuracy: 0.7160\n",
      "Epoch 3/4\n",
      "16/16 [==============================] - 0s 17ms/step - loss: 1.0599 - accuracy: 0.7736 - val_loss: 1.1525 - val_accuracy: 0.7580\n",
      "Epoch 4/4\n",
      "16/16 [==============================] - 0s 17ms/step - loss: 0.8414 - accuracy: 0.8185 - val_loss: 1.0733 - val_accuracy: 0.7740\n",
      "71/71 [==============================] - 0s 1ms/step - loss: 1.1390 - accuracy: 0.7538\n"
     ]
    }
   ],
   "source": [
    "#3.5.7\n",
    "from keras.datasets import reuters\n",
    "\n",
    "(train_data, train_labels), (test_data, test_labels) = reuters.load_data(num_words=10000)\n",
    "\n",
    "print(len(train_data))\n",
    "print(len(test_data))\n",
    "\n",
    "word_index = reuters.get_word_index()\n",
    "reverse_word_index = dict([(value, key) for (key, value) in word_index.items()])\n",
    "decoded_newswire = ' '.join([reverse_word_index.get(i - 3, '?') for i in train_data[0]])\n",
    "\n",
    "import numpy as np\n",
    "\n",
    "def vectorize_sequences(sequences, dimension=10000):\n",
    "    results = np.zeros((len(sequences), dimension))\n",
    "    for i, sequence in enumerate(sequences):\n",
    "        results[i, sequence] = 1.\n",
    "    return results\n",
    "\n",
    "x_train = vectorize_sequences(train_data)\n",
    "x_test = vectorize_sequences(test_data)\n",
    "\n",
    "def to_one_hot(labels, dimension=46):\n",
    "    results = np.zeros((len(labels), dimension))\n",
    "    for i, label in enumerate(labels):\n",
    "        results[i, label] = 1\n",
    "    return results\n",
    "\n",
    "one_hot_train_labels = to_one_hot(train_labels)\n",
    "one_hot_test_labels = to_one_hot(test_labels)\n",
    "\n",
    "from keras import models\n",
    "from keras import layers\n",
    "\n",
    "model = models.Sequential()\n",
    "model.add(layers.Dense(64, activation='relu', input_shape=(10000,)))\n",
    "model.add(layers.Dense(64, activation='relu'))\n",
    "model.add(layers.Dense(46, activation='softmax'))\n",
    "\n",
    "model.compile(optimizer='rmsprop',\n",
    "              loss='categorical_crossentropy',\n",
    "              metrics='accuracy')\n",
    "\n",
    "#3.5.4\n",
    "x_val = x_train[:1000]\n",
    "partial_x_train = x_train[1000:]\n",
    "\n",
    "y_val = one_hot_train_labels[:1000]\n",
    "partial_y_train = one_hot_train_labels[1000:]\n",
    "\n",
    "#3.18\n",
    "history = model.fit(partial_x_train,\n",
    "                    partial_y_train,\n",
    "                    epochs=4,\n",
    "                    batch_size=512,\n",
    "                    validation_data=(x_val, y_val))\n",
    "\n",
    "results = model.evaluate(x_test, one_hot_test_labels)\n"
   ]
  },
  {
   "cell_type": "code",
   "execution_count": 5,
   "id": "7b9c6f71",
   "metadata": {},
   "outputs": [
    {
     "name": "stdout",
     "output_type": "stream",
     "text": [
      "0.8184665441513062\n",
      "0.7739999890327454\n",
      "[5.89510193e-04 8.36966443e-04 9.37194389e-04 9.40381706e-01\n",
      " 3.20718363e-02 1.01624624e-04 7.85640732e-04 2.38886678e-05\n",
      " 6.55315910e-03 7.33064197e-04 7.74371962e-04 1.33823662e-04\n",
      " 5.68025513e-04 2.59679393e-03 4.87747238e-05 3.08895069e-05\n",
      " 6.80126483e-03 4.85670840e-04 4.55660687e-04 4.09621076e-04\n",
      " 6.07093214e-04 1.09794433e-04 1.14826355e-04 2.07955993e-04\n",
      " 3.08110553e-04 3.96475574e-04 1.17117343e-04 3.26676786e-06\n",
      " 7.18885058e-05 2.45234492e-04 2.92380544e-04 6.97422147e-05\n",
      " 2.75340659e-04 3.00060510e-05 4.77046968e-04 2.79903306e-05\n",
      " 7.11070781e-04 1.73614353e-05 1.01479738e-04 1.52880835e-04\n",
      " 2.88639985e-05 5.89458723e-05 1.97843146e-05 8.70600416e-05\n",
      " 2.92686036e-06 1.45816492e-04]\n",
      "0.9999999\n",
      "3\n"
     ]
    }
   ],
   "source": [
    "#3.5.7\n",
    "print(history.history['accuracy'][-1])\n",
    "print(history.history['val_accuracy'][-1])\n",
    "\n",
    "predictions = model.predict(x_test)\n",
    "print(predictions[0])\n",
    "print(np.sum(predictions[0]))\n",
    "print(np.argmax(predictions[0]))"
   ]
  },
  {
   "cell_type": "code",
   "execution_count": null,
   "id": "e78ee4cc",
   "metadata": {},
   "outputs": [],
   "source": []
  }
 ],
 "metadata": {
  "kernelspec": {
   "display_name": "Python 3 (ipykernel)",
   "language": "python",
   "name": "python3"
  },
  "language_info": {
   "codemirror_mode": {
    "name": "ipython",
    "version": 3
   },
   "file_extension": ".py",
   "mimetype": "text/x-python",
   "name": "python",
   "nbconvert_exporter": "python",
   "pygments_lexer": "ipython3",
   "version": "3.9.7"
  }
 },
 "nbformat": 4,
 "nbformat_minor": 5
}
